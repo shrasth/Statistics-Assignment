{
 "cells": [
  {
   "cell_type": "markdown",
   "id": "fac7762f-addd-44cf-b8fd-e293e00544d9",
   "metadata": {},
   "source": [
    "**Q1. What is Statistics?**"
   ]
  },
  {
   "cell_type": "markdown",
   "id": "994f366b-e33f-4598-ada8-e966d77d3833",
   "metadata": {},
   "source": [
    "It is the science of collecting, organizing and analyzing the data."
   ]
  },
  {
   "cell_type": "code",
   "execution_count": null,
   "id": "9efc36e1-e938-4617-98f4-c9ae314a44ad",
   "metadata": {},
   "outputs": [],
   "source": []
  },
  {
   "cell_type": "markdown",
   "id": "717b1fe3-3a5d-4ced-ba56-67b7bd049b90",
   "metadata": {},
   "source": [
    "**Q2. Define the different types of statistics and give an example of when each type might be used.**"
   ]
  },
  {
   "cell_type": "markdown",
   "id": "1e72c9bb-2385-46f3-a37c-38f5883d9688",
   "metadata": {},
   "source": [
    "There are two types of statistics:\n",
    "\n",
    "1. Descriptive Statistics:\n",
    "\n",
    "    It involves summarizing and presenting data in a meaningful way.\n",
    "    \n",
    "    Example: Measures of Central Tendency like mean, median and mode\n",
    "\n",
    "2. Inferential Statistics:\n",
    "\n",
    "    It  involves making inferences or generalizations about a population based on a sample.\n",
    "    \n",
    "    Example: Regression Analysis"
   ]
  },
  {
   "cell_type": "code",
   "execution_count": null,
   "id": "6d4c0fc6-dd20-46b0-b3a0-e006fcd7a9c4",
   "metadata": {},
   "outputs": [],
   "source": []
  },
  {
   "cell_type": "markdown",
   "id": "1ee997b3-1218-4088-acb1-8382eacfb78b",
   "metadata": {},
   "source": [
    "**Q3. What are the different types of data and how do they differ from each other? Provide an example of each type of data.**"
   ]
  },
  {
   "cell_type": "markdown",
   "id": "0828a4ba-7be1-4633-a597-b3e20e239b91",
   "metadata": {},
   "source": [
    "Data is divided into two types\n",
    "\n",
    "1. Quantitative or Numerical data:\n",
    "\n",
    "    Quantitative data represents measurable quantities or numerical values. \n",
    "    \n",
    "2. Qualitative or Categorical data\n",
    "\n",
    "    Qualitative data represents qualities or characteristics that cannot be measured numerically."
   ]
  },
  {
   "cell_type": "markdown",
   "id": "c76a8d0e-e3db-4a92-95c5-474b7a0b0dac",
   "metadata": {},
   "source": [
    "Quantitative or Numerical data are further broken down into 2 types:\n",
    "\n",
    "1. Discrete data: Discrete data consists of whole numbers or values that are counted or enumerated.\n",
    "\n",
    "    For example: Number of siblings in a family (1, 2, 3, etc.)\n",
    "\n",
    "2. Continuous data: Continuous data represents measurements or values that can take any numerical value within a certain range. \n",
    "\n",
    "    For example: Height of individuals (e.g., 170 cm, 172.5 cm, 175 cm, etc.)"
   ]
  },
  {
   "cell_type": "markdown",
   "id": "a25ce2eb-dac4-47b3-a527-e43097750670",
   "metadata": {},
   "source": [
    "Qualitative or Categorical data are further broken down into 2 types:\n",
    "\n",
    "1. Nominal Qualitative Data: Where the values represent categories or groups with no inherent order or ranking.\n",
    "\n",
    "    For example: Gender: Male, Female\n",
    "\n",
    "2. Ordinal Qualitative Data: Ordinal data is a type of qualitative data where the values represent categories or groups that have an inherent order or ranking. \n",
    "\n",
    "    For example:  Educational Attainment: High School, Bachelor's, Master's, Doctorate (ordered by level of education)"
   ]
  },
  {
   "cell_type": "code",
   "execution_count": null,
   "id": "de519450-7298-4f5d-a136-2e49709ca44e",
   "metadata": {},
   "outputs": [],
   "source": []
  },
  {
   "cell_type": "markdown",
   "id": "bde9f619-6a51-41e9-ab18-54aa61bb3aa0",
   "metadata": {},
   "source": [
    "**Q4. Categorise the following datasets with respect to quantitative and qualitative data types**:\n",
    "(i) Grading in exam: A+, A, B+, B, C+, C, D, E\n",
    "(ii) Colour of mangoes: yellow, green, orange, red\n",
    "(iii) Height data of a class: [178.9, 179, 179.5, 176, 177.2, 178.3, 175.8,...]\n",
    "(iv) Number of mangoes exported by a farm: [500, 600, 478, 672, ...]"
   ]
  },
  {
   "cell_type": "markdown",
   "id": "0d91b2e2-6bf2-41b6-98ed-a55f736b5af3",
   "metadata": {},
   "source": [
    "1. **Grading in exam: A+, A, B+, B, C+, C, D, E**: It is an Ordinal Qualitative Data\n",
    "\n",
    "2. **Colour of mangoes: yellow, green, orange, red**: It is a Nominal Qualitative Data\n",
    "\n",
    "3. **Height data of a class: [178.9, 179, 179.5, 176, 177.2, 178.3, 175.8,...]**: It is a Continuous Quantitative Data\n",
    "\n",
    "4. **Number of mangoes exported by a farm: [500, 600, 478, 672, ...]**: It is a Discrete Quantitative Data"
   ]
  },
  {
   "cell_type": "code",
   "execution_count": null,
   "id": "9fb4f994-0660-46d5-9c5a-1249bd63935b",
   "metadata": {},
   "outputs": [],
   "source": []
  },
  {
   "cell_type": "markdown",
   "id": "9b1c669c-dba7-410e-b742-fbe3cd6df37d",
   "metadata": {},
   "source": [
    "**Q5. Explain the concept of levels of measurement and give an example of a variable for each level.**"
   ]
  },
  {
   "cell_type": "markdown",
   "id": "77c8b725-5900-4f6e-af4a-c15a364151fd",
   "metadata": {},
   "source": [
    "It refer to the different ways in which data can be categorized or measured.\n",
    "\n",
    "There are four types of measurement:\n",
    "\n",
    "1. Nominal level: Here, data are categorized into distinct groups or categories without any inherent order or ranking. \n",
    "\n",
    "    For example: Eye Color: Blue, Brown, Green\n",
    "    \n",
    "2. Ordinal Level: At the ordinal level, data can be ranked or ordered based on their relative positions or levels. \n",
    "\n",
    "    For example: Customer Satisfaction Levels: Very Unsatisfied, Unsatisfied, Neutral, Satisfied, Very Satisfied\n",
    "    \n",
    "3. Interval Level: At the interval level, data are measured on a scale with equal intervals between values.\n",
    "\n",
    "    For example: Temperature in Celsius or Fahrenheit: 25°C, 30°C, 35°C\n",
    "    \n",
    "4. Ratio Level: At the ratio level, data are measured on a scale with equal intervals between values, and there is a meaningful zero point.\n",
    "\n",
    "    For example: Weight in kilograms: 50 kg, 60 kg, 70 kg"
   ]
  },
  {
   "cell_type": "code",
   "execution_count": null,
   "id": "ada256ee-70ad-4290-9fa9-71946a794a03",
   "metadata": {},
   "outputs": [],
   "source": []
  },
  {
   "cell_type": "markdown",
   "id": "bf743aa0-f164-428e-aa60-bcf5dd38e53e",
   "metadata": {},
   "source": [
    "**Q6. Why is it important to understand the level of measurement when analyzing data? Provide an example to illustrate your answer.**"
   ]
  },
  {
   "cell_type": "markdown",
   "id": "8a74fae1-7f99-4da0-b527-7fa9ed1d66d7",
   "metadata": {},
   "source": [
    "It important because while analyzing the data, it is crucial to determines the types of statistical analysis and operations that can be applied. Moreover, it also helps guide the selection of appropriate statistical techniques and ensures accurate interpretation of results.\n",
    "\n",
    "For example there is a dataset that includes information about different cities, including their names, average temperatures (in Celsius), and population sizes. We are looking to analyze the relationship between temperature and population.\n",
    "\n",
    "If the level of measurement is not taken into consideration then:\n",
    "\n",
    "1. We might perform mathematical operations like addition or multiplication.\n",
    "\n",
    "2. We might attempt to calculate the average temperature or perform statistical tests that assume equal intervals between temperature categories if we treat temperature as ordinal data\n",
    "\n",
    "3. Also, if we treat population as nominal data, we might assign arbitrary numerical values to each city without considering their true magnitudes."
   ]
  },
  {
   "cell_type": "code",
   "execution_count": null,
   "id": "4018ade9-dde8-4450-a72f-032e76c57277",
   "metadata": {},
   "outputs": [],
   "source": []
  },
  {
   "cell_type": "markdown",
   "id": "7a1a279a-08c1-47c4-b565-645ea6455e88",
   "metadata": {},
   "source": [
    "**Q7. How nominal data type is different from ordinal data type.**"
   ]
  },
  {
   "cell_type": "markdown",
   "id": "386b6e5d-b7df-4bd4-b638-5e241a0e7249",
   "metadata": {},
   "source": [
    "1. Nominal data represents categories or groups without any inherent order or ranking, whereas the ordinal data represents categories or groups that have an inherent order or ranking.\n",
    "\n",
    "2. The values in nominal data are labels or names assigned to different categories but values in ordinal data can be ranked or ordered in terms of their relative positions or levels."
   ]
  },
  {
   "cell_type": "code",
   "execution_count": null,
   "id": "b7cda994-9106-40e0-9d4d-75b98ed83396",
   "metadata": {},
   "outputs": [],
   "source": []
  },
  {
   "cell_type": "markdown",
   "id": "67882f0e-b429-43cf-b211-8229a0c22db0",
   "metadata": {},
   "source": [
    "**Q8. Which type of plot can be used to display data in terms of range?**"
   ]
  },
  {
   "cell_type": "markdown",
   "id": "be4eb266-b0ab-4e6b-88df-f67044499bf2",
   "metadata": {},
   "source": [
    "box plot  can be used to display data in terms of range"
   ]
  },
  {
   "cell_type": "code",
   "execution_count": null,
   "id": "154e5f02-86bf-41c6-8937-aade49383223",
   "metadata": {},
   "outputs": [],
   "source": []
  },
  {
   "cell_type": "markdown",
   "id": "c3f673f8-5042-4b40-85c1-a2f8c17f2831",
   "metadata": {},
   "source": [
    "**Q9. Describe the difference between descriptive and inferential statistics. Give an example of each type of statistics and explain how they are used.**"
   ]
  },
  {
   "cell_type": "markdown",
   "id": "7732a05c-cefb-47b9-98b4-f62867ae40a3",
   "metadata": {},
   "source": [
    "Descriptive statistics involves summarizing, organizing, and describing the main characteristics of a dataset. \n",
    "\n",
    "Example: Mean income of a population\n",
    "\n",
    "Inferential statistics involves drawing conclusions, making predictions, or generalizing from a sample to a larger population.\n",
    "\n",
    "Example: Hypothesis testing\n"
   ]
  },
  {
   "cell_type": "code",
   "execution_count": null,
   "id": "91c4f117-753d-4f1f-8611-7c7ef8803ca1",
   "metadata": {},
   "outputs": [],
   "source": []
  },
  {
   "cell_type": "markdown",
   "id": "f2f3f42f-e9a7-4bbc-97a3-0c69eb4a67d4",
   "metadata": {},
   "source": [
    "**Q10. What are some common measures of central tendency and variability used in statistics? Explain how each measure can be used to describe a dataset.**"
   ]
  },
  {
   "cell_type": "markdown",
   "id": "f524f98b-5512-4776-b203-bb8b89332e28",
   "metadata": {},
   "source": [
    "Common measures of central tendency and variability used in statistics include:\n",
    "\n",
    "**Measures of Central Tendency**:\n",
    "\n",
    "1. Mean: It  is the average of a dataset and is calculated by summing all the values and dividing by the total number of values.\n",
    "\n",
    "2. Median: The median is the middle value in a dataset when it is arranged in ascending or descending order. \n",
    "\n",
    "3. Mode: The mode is the value or values that appear most frequently in a dataset.\n",
    "\n",
    "**Measures of Variability**:\n",
    "\n",
    "1. Range: The range is the difference between the maximum and minimum values in a dataset.\n",
    "\n",
    "2. Variance: Variance measures the average squared deviation of each data point from the mean. \n",
    "\n",
    "3. Standard Deviation: The standard deviation is the square root of the variance.\n",
    "\n",
    "\n",
    "Measures of central tendency summarize the dataset's central value, indicating the typical or average score.\n",
    "\n",
    "The mean provides the arithmetic average, while the median gives the middle value that splits the dataset in half. \n",
    "\n",
    "The mode identifies the most frequently occurring value(s) in the dataset.\n",
    "\n",
    "\n",
    "Measures of variability describe the spread or dispersion of the dataset.\n",
    "\n",
    "The range provides a simple measure of the difference between the maximum and minimum values. \n",
    "\n",
    "Variance and standard deviation quantify the average deviation of data points from the mean, with higher values indicating greater variability."
   ]
  }
 ],
 "metadata": {
  "kernelspec": {
   "display_name": "Python 3 (ipykernel)",
   "language": "python",
   "name": "python3"
  },
  "language_info": {
   "codemirror_mode": {
    "name": "ipython",
    "version": 3
   },
   "file_extension": ".py",
   "mimetype": "text/x-python",
   "name": "python",
   "nbconvert_exporter": "python",
   "pygments_lexer": "ipython3",
   "version": "3.10.8"
  }
 },
 "nbformat": 4,
 "nbformat_minor": 5
}
